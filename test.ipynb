{
 "cells": [
  {
   "cell_type": "code",
   "execution_count": 6,
   "metadata": {},
   "outputs": [],
   "source": [
    "import os\n",
    "from tqdm.notebook import tqdm\n",
    "import numpy as np\n",
    "import pandas as pd\n",
    "import matplotlib\n",
    "import missingno as msno\n",
    "\n",
    "import pandas_datareader\n",
    "import pandas_datareader.data as web\n",
    "import investpy\n",
    "import yfinance as yf\n",
    "import financedatabase as fd\n",
    "\n",
    "from constants import *\n",
    "from utils import *\n",
    "import time\n",
    "import datetime as dt\n",
    "\n",
    "import requests\n",
    "from bs4 import BeautifulSoup as bs\n",
    "from data_constructor import DataConstructor\n",
    "\n",
    "pd.set_option('display.width', 250)\n",
    "pd.set_option('display.max_rows', 200)\n",
    "pd.set_option('display.max_columns', 50)\n",
    "pd.options.mode.chained_assignment = None"
   ]
  },
  {
   "cell_type": "code",
   "execution_count": null,
   "metadata": {},
   "outputs": [],
   "source": [
    "https://etfdb.com/etf/SPLG/#etf-ticker-profile"
   ]
  },
  {
   "cell_type": "code",
   "execution_count": 67,
   "metadata": {},
   "outputs": [],
   "source": [
    "url = \"https://etfdb.com/etf/SPLG/#etf-ticker-profile\"\n",
    "html = urlopen(url)\n",
    "bs_obj = BeautifulSoup(html, \"html.parser\")"
   ]
  },
  {
   "cell_type": "code",
   "execution_count": 74,
   "metadata": {},
   "outputs": [
    {
     "name": "stdout",
     "output_type": "stream",
     "text": [
      "105\n",
      "<li>\n",
      "<span>AUM</span>\n",
      "<span class=\"pull-right\">$5,818.3 M</span>\n",
      "</li>\n",
      "$5,818.3 M\n"
     ]
    }
   ],
   "source": [
    "# 요청에 성공할 때가 있고 실패할 때가 있음\n",
    "# 시간간격 + 여러번 시도 기능 만들어야 할 듯 함\n",
    "\n",
    "import re\n",
    "from urllib.request import urlopen\n",
    "from bs4 import BeautifulSoup\n",
    "symbol = \"qqqm\".upper()\n",
    "url = f\"https://etfdb.com/etf/{symbol}/#etf-ticker-profile\"\n",
    "html = urlopen(url)\n",
    "bs_obj = BeautifulSoup(html, \"html.parser\")\n",
    "# bs_obj\n",
    "\n",
    "# find aum\n",
    "bs_objs = bs_obj.findAll('li')\n",
    "for i, j in enumerate(bs_objs):\n",
    "    if (\"AUM\" in str(j)) and (\"pull-right\" in str(j)):\n",
    "        print(i)\n",
    "        print(j)\n",
    "        print(j.find_all('span')[1].get_text().replace(\"[ ,]\",\"\"))\n",
    "        break\n",
    "\n",
    "# find shares outstanding"
   ]
  },
  {
   "cell_type": "code",
   "execution_count": 46,
   "metadata": {},
   "outputs": [
    {
     "data": {
      "text/plain": [
       "'272816.0M'"
      ]
     },
     "execution_count": 46,
     "metadata": {},
     "output_type": "execute_result"
    }
   ],
   "source": [
    "re.sub(\"[ ,$]\", \"\", j.find_all('span')[1].get_text())"
   ]
  },
  {
   "cell_type": "code",
   "execution_count": 10,
   "metadata": {},
   "outputs": [
    {
     "data": {
      "text/plain": [
       "<div class=\"header-area\">\n",
       "<div class=\"container\" data-dfp-unit=\"prepend_body\"></div>\n",
       "<div data-ad-slot-defer=\"\" data-dfp-unit=\"append_header\" data-dfp-unit-remove-iframe=\"true\" data-dfp-unit-served='{ \"append\": \"&lt;script&gt;window.preventFixHeaderArea = true;&lt;/script&gt;\" }' id=\"append_header\"></div> <script> googletag.cmd.push(function() {\n",
       "      googletag.defineOutOfPageSlot('/21804333245/mitre_webpage', 'append_header').setTargeting('uri', [\"/etf/VOO\"]).setTargeting('tags', [\"etf\", \"VOO\", \"vanguard\", \"sp-500-index\", \"large-cap-growth-equities\", \"root\", \"asset-class\", \"equity\", \"size\", \"large-cap\", \"style\", \"blend\", \"region\", \"structure\", \"north-america\", \"us\", \"investment-style\", \"consistent-growth\", \"socially-responsible\", \"dividend-frequency\", \"quarterly\", \"Currency Hedged\", \"Equity\", \"Ireland Exposure\", \"Passive\", \"Rising Interest Rates\", \"United States\", \"Blend Equity\", \"Blend\", \"Equity Asset Class\", \"North America\", \"Equity ETFs\", \"Consistent Growth\", \"Large Cap Equity\", \"ETF\", \"Vanguard\", \"Developed Markets\", \"Long\", \"Large Cap\", \"United States Exposure\"]).setTargeting('slot_name', [\"A30-6\"]).addService(googletag.pubads());\n",
       "\n",
       "      \n",
       "    });</script>\n",
       "<div data-ad-slot-defer=\"\" data-dfp-unit=\"prepend_body\" data-dfp-unit-remove-iframe=\"true\" id=\"prepend_body\"></div> <script> googletag.cmd.push(function() {\n",
       "      googletag.defineOutOfPageSlot('/21804333245/mitre_webpage', 'prepend_body').setTargeting('uri', [\"/etf/VOO\"]).setTargeting('tags', [\"etf\", \"VOO\", \"vanguard\", \"sp-500-index\", \"large-cap-growth-equities\", \"root\", \"asset-class\", \"equity\", \"size\", \"large-cap\", \"style\", \"blend\", \"region\", \"structure\", \"north-america\", \"us\", \"investment-style\", \"consistent-growth\", \"socially-responsible\", \"dividend-frequency\", \"quarterly\", \"Currency Hedged\", \"Equity\", \"Ireland Exposure\", \"Passive\", \"Rising Interest Rates\", \"United States\", \"Blend Equity\", \"Blend\", \"Equity Asset Class\", \"North America\", \"Equity ETFs\", \"Consistent Growth\", \"Large Cap Equity\", \"ETF\", \"Vanguard\", \"Developed Markets\", \"Long\", \"Large Cap\", \"United States Exposure\"]).setTargeting('slot_name', [\"A30-7\"]).addService(googletag.pubads());\n",
       "\n",
       "      \n",
       "    });</script>\n",
       "<div data-ad-slot-defer=\"\" data-dfp-unit=\"ad-slot-13141-bba308\" data-dfp-unit-remove-iframe=\"true\" id=\"ad-slot-13141-bba308\"></div> <script> googletag.cmd.push(function() {\n",
       "      googletag.defineOutOfPageSlot('/21804333245/mitre_webpage', 'ad-slot-13141-bba308').setTargeting('uri', [\"/etf/VOO\"]).setTargeting('tags', [\"etf\", \"VOO\", \"vanguard\", \"sp-500-index\", \"large-cap-growth-equities\", \"root\", \"asset-class\", \"equity\", \"size\", \"large-cap\", \"style\", \"blend\", \"region\", \"structure\", \"north-america\", \"us\", \"investment-style\", \"consistent-growth\", \"socially-responsible\", \"dividend-frequency\", \"quarterly\", \"Currency Hedged\", \"Equity\", \"Ireland Exposure\", \"Passive\", \"Rising Interest Rates\", \"United States\", \"Blend Equity\", \"Blend\", \"Equity Asset Class\", \"North America\", \"Equity ETFs\", \"Consistent Growth\", \"Large Cap Equity\", \"ETF\", \"Vanguard\", \"Developed Markets\", \"Long\", \"Large Cap\", \"United States Exposure\"]).setTargeting('slot_name', [\"A30-8\"]).addService(googletag.pubads());\n",
       "\n",
       "      \n",
       "    });</script>\n",
       "<div class=\"mm-header-wrapper\">\n",
       "<div class=\"mm-header\">\n",
       "<div class=\"navbar navbar-default navbar-fixed-top\" data-elastic-exclude=\"\">\n",
       "<div class=\"container mm-main-container\">\n",
       "<div class=\"container-fluid\">\n",
       "<div class=\"navbar-header\">\n",
       "<button aria-expanded=\"false\" class=\"navbar-toggle navbar-collapse-btn collapsed\" data-target=\"#navbar-collapse\" data-toggle=\"collapse\" type=\"button\">\n",
       "<span class=\"fa fa-bars\"></span>\n",
       "</button>\n",
       "<noscript>\n",
       "<div class=\"logo\">\n",
       "<!--[if gt IE 9]><!-->\n",
       "<a class=\"navbar-brand mm-header-logo\" href=\"https://etfdb.com/\"><img alt=\"ETFdb Logo\" src=\"/assets/VettaFi_ETFdb-5305fe6f4e98fca434054a07f91dd5d7298814f2844039ab673faf7c93e475e6.svg\"/></a>\n",
       "<!--<![endif]-->\n",
       "<a class=\"navbar-brand mm-header-logo--ie\" href=\"https://etfdb.com/\"><img alt=\"ETFdb Logo\" src=\"/assets/VettaFi_ETFdb-5305fe6f4e98fca434054a07f91dd5d7298814f2844039ab673faf7c93e475e6.svg\"/></a>\n",
       "</div>\n",
       "</noscript>\n",
       "<div class=\"logo\">\n",
       "<!--[if gt IE 9]><!-->\n",
       "<div class=\"logo-card front\">\n",
       "<a class=\"navbar-brand mm-header-logo\" href=\"https://etfdb.com/\"><img alt=\"ETFdb Logo\" src=\"/assets/VettaFi_ETFdb-5305fe6f4e98fca434054a07f91dd5d7298814f2844039ab673faf7c93e475e6.svg\"/></a>\n",
       "</div>\n",
       "<!--<![endif]-->\n",
       "<div class=\"logo-card front\">\n",
       "<a class=\"navbar-brand mm-header-logo--ie\" href=\"https://etfdb.com/\"><img alt=\"ETFdb Logo\" src=\"/assets/VettaFi_ETFdb-5305fe6f4e98fca434054a07f91dd5d7298814f2844039ab673faf7c93e475e6.svg\"/></a>\n",
       "</div>\n",
       "</div>\n",
       "</div>\n",
       "<div class=\"collapse navbar-collapse\" id=\"navbar-collapse\">\n",
       "<div class=\"row hidden-md hidden-lg hidden-sm\">\n",
       "<div class=\"mm-mobile-search clearfix\">\n",
       "<div class=\"col-xs-8 col-xs-offset-2\">\n",
       "<div class=\"typeahead-container\">\n",
       "<form accept-charset=\"UTF-8\" action=\"/search\" class=\"search form-inline\" method=\"get\"><input name=\"utf8\" type=\"hidden\" value=\"✓\"/>\n",
       "<div class=\"form-group\">\n",
       "<div class=\"input-group\">\n",
       "<input autocomplete=\"off\" class=\"form-control\" data-displaykey=\"name\" data-handlebar=\"{{symbol}} – {{name}}\" data-redirect=\"/search?q={{symbol}}\" data-searchremote=\"/search.json?q=%QUERY\" id=\"mobile-search-typeahead\" name=\"q\" placeholder=\"Type to search\" spellcheck=\"false\" type=\"text\" value=\"\"/>\n",
       "<div class=\"input-group-addon\">\n",
       "<button class=\"btn btn-default\" name=\"button\" type=\"submit\"><span class=\"fa fa-search\"></span>\n",
       "</button></div>\n",
       "</div>\n",
       "</div>\n",
       "</form>\n",
       "</div>\n",
       "</div>\n",
       "</div>\n",
       "</div>\n",
       "<ul class=\"nav navbar-nav left-padding ie-11-fix\" data-analytics-track-click='{\"category\": \"Navigation\", \"action\": \"click\"}' id=\"mid-menu-ul\">\n",
       "<li class=\"nav-item\"><a href=\"//etfdb.com/etfs/\" title=\"ETF Database\">ETF Database</a></li><li class=\"nav-item dropdown\"><a class=\"dropdown-toggle\" data-toggle=\"dropdown\" href=\"https://etfdb.com/\" title=\"Channels\">Channels<span class=\"caret\"></span></a><div class=\"dropdown-menu multi-columns\"><div class=\"row\"><div class=\"dropdown-menu-top-bar\"></div><div class=\"col-sm-6 col-md-6 col-lg-6\"><ul class=\"multi-column-dropdown\"><li><a href=\"/active-etf-channel\" title=\"Active ETF\">Active ETF</a></li><li><a href=\"/alternatives-channel\" title=\"Alternatives\">Alternatives</a></li><li><a href=\"https://etfdb.com/tactical-allocation-channel/\" title=\"Beyond Basic Beta\">Beyond Basic Beta</a></li><li><a href=\"https://etfdb.com/china-insights-channel/\" title=\"China Insights\">China Insights</a></li><li><a href=\"/climate-insights-channel/\" title=\"Climate Insights\">Climate Insights</a></li><li><a href=\"https://etfdb.com/commodities-channel/\" title=\"Commodities\">Commodities</a></li><li><a href=\"https://etfdb.com/core-strategies-channel/\" title=\"Core Strategies\">Core Strategies</a></li><li><a href=\"https://etfdb.com/crypto-channel/\" title=\"Crypto\">Crypto</a></li><li><a href=\"https://etfdb.com/disruptive-technology-channel/\" title=\"Disruptive Technology\">Disruptive Technology</a></li><li><a href=\"https://etfdb.com/dividend-channel/\" title=\"Dividend\">Dividend</a></li><li><a href=\"https://etfdb.com/dual-impact-channel/\" title=\"Dual Impact\">Dual Impact</a></li><li><a href=\"/emerging-markets-channel\" title=\"Emerging Markets\">Emerging Markets</a></li><li><a href=\"https://etfdb.com/energy-infrastructure-channel/\" title=\"Energy Infrastructure\">Energy Infrastructure</a></li><li><a href=\"/esg-channel\" title=\"ESG\">ESG</a></li><li><a href=\"https://etfdb.com/etf-building-blocks-channel/\" title=\"ETF Building Blocks\">ETF Building Blocks</a></li><li><a href=\"https://etfdb.com/etf-education-channel/\" title=\"ETF Education \">ETF Education </a></li><li><a href=\"/etf-strategist-channel/\" title=\"ETF Strategist\">ETF Strategist</a></li></ul></div><div class=\"col-sm-6 col-md-6 col-lg-6\"><ul class=\"multi-column-dropdown\"><li><a href=\"https://etfdb.com/fixed-income-channel/\" title=\"Fixed Income\">Fixed Income</a></li><li><a href=\"https://etfdb.com/free-cash-flow-channel/\" title=\"Free Cash Flow\">Free Cash Flow</a></li><li><a href=\"/future-etfs-channel/\" title=\"Future ETFs\">Future ETFs</a></li><li><a href=\"https://etfdb.com/global-diversification-channel/\" title=\"Global Diversification\">Global Diversification</a></li><li><a href=\"https://etfdb.com/gold-silver-investing-channel\" title=\"Gold &amp; Silver Investing \">Gold &amp; Silver Investing </a></li><li><a href=\"https://etfdb.com/innovative-etfs-channel/\" title=\"Innovative ETFs\">Innovative ETFs</a></li><li><a href=\"https://etfdb.com/institutional-income-strategies-channel/\" title=\"Institutional Income Strategies\">Institutional Income Strategies</a></li><li><a href=\"https://etfdb.com/leveraged-inverse-channel/\" title=\"Leveraged &amp; Inverse\">Leveraged &amp; Inverse</a></li><li><a href=\"https://etfdb.com//managed-futures-channel/\" title=\"Managed Futures\">Managed Futures</a></li><li><a href=\"/megatrends-channel/\" title=\"Megatrends\">Megatrends</a></li><li><a href=\"https://etfdb.com/model-portfolio-channel/\" title=\"Modern Alpha\">Modern Alpha</a></li><li><a href=\"https://etfdb.com/multi-asset-channel/\" title=\"Multi-Asset\">Multi-Asset</a></li><li><a href=\"https://etfdb.com/portfolio-strategies-channel/\" title=\"Portfolio Strategies\">Portfolio Strategies</a></li><li><a href=\"https://etfdb.com/retirement-income-channel/\" title=\"Retirement Income\">Retirement Income</a></li><li><a href=\"https://etfdb.com/thematic-investing-channel/\" title=\"Thematic Investing\">Thematic Investing</a></li><li><a href=\"https://etfdb.com/volatility-resource-channel/\" title=\"Volatility Resource\">Volatility Resource</a></li></ul></div></div></div></li><li class=\"nav-item dropdown\"><a class=\"dropdown-toggle\" data-toggle=\"dropdown\" href=\"//etfdb.com/tools/\" title=\"Tools\">Tools<span class=\"caret\"></span></a><div class=\"dropdown-menu multi-columns\"><div class=\"row\"><div class=\"dropdown-menu-top-bar\"></div><div class=\"col-sm-4 col-md-4 col-lg-4\"><ul class=\"multi-column-dropdown\"><li><a href=\"/screener/\" title=\"ETF Screener\">ETF Screener</a></li><li><a href=\"/tool/etf-country-exposure-tool/\" title=\"ETF Country Exposure Tool\">ETF Country Exposure Tool</a></li><li class=\"us-only hidden\"><div class=\"nav-ad-container\"><div class=\"link\" style=\"padding-right: 0px;\"><a class=\"us-only hidden\" href=\"https://ad.wsod.com/click/096d329769ec8eaad23c01b62833ed4a/1546.0.img.1x1/\" rel=\"nofollow\" target=\"_blank\" title=\"ETF Sector Tracker Tool\">ETF Sector Tracker Tool</a></div><div class=\"us-only hidden hidden-xs hidden-sm\" style=\"padding-left: 0px; padding-right: 0px;\"><div class=\"nav-ad\"><div data-ad-slot-defer=\"\" data-dfp-unit=\"ad-slot-c44f99\" data-dfp-unit-remove-iframe=\"true\" id=\"ad-slot-c44f99\"></div> <script> googletag.cmd.push(function() {\n",
       "      googletag.defineOutOfPageSlot('/21804333245/mitre_webpage', 'ad-slot-c44f99').setTargeting('uri', [\"/etf/VOO\"]).setTargeting('slot_name', [\"A21-1\"]).addService(googletag.pubads());\n",
       "\n",
       "      \n",
       "    });</script></div></div></div></li><li><a href=\"/etfdb-categories/\" title=\"ETF Database Categories\">ETF Database Categories</a></li></ul></div><div class=\"col-sm-4 col-md-4 col-lg-4\"><ul class=\"multi-column-dropdown\"><li><a href=\"/tool/etf-comparison/\" title=\"Head-To-Head ETF Comparison Tool\">Head-To-Head ETF Comparison Tool</a></li><li><a href=\"/tool/etf-stock-exposure-tool/\" title=\"ETF Stock Exposure Tool\">ETF Stock Exposure Tool</a></li><li><a href=\"/etf-fund-flows/\" title=\"ETF Issuer Fund Flows\">ETF Issuer Fund Flows</a></li><li><a href=\"/indexes/\" title=\"Indexes\">Indexes</a></li></ul></div><div class=\"col-sm-4 col-md-4 col-lg-4\"><ul class=\"multi-column-dropdown\"><li><a href=\"/tool/mutual-fund-to-etf/\" title=\"Mutual Fund To ETF Converter\">Mutual Fund To ETF Converter</a></li><li><a href=\"https://etfdb.com/etf-data-for-journalists/\" title=\"ETF Data for Journalists\">ETF Data for Journalists</a></li><li><a href=\"https://etfnerds.com/\" title=\"ETF Nerds\">ETF Nerds</a></li></ul></div></div></div></li><li class=\"nav-item dropdown\"><a class=\"dropdown-toggle\" data-toggle=\"dropdown\" href=\"//etfdb.com/etf-education/\" title=\"Research\">Research<span class=\"caret\"></span></a><div class=\"dropdown-menu multi-columns\"><div class=\"row\"><div class=\"dropdown-menu-top-bar\"></div><div class=\"col-sm-4 col-md-4 col-lg-4\"><ul class=\"multi-column-dropdown\"><li><a href=\"https://www.etftrends.com/crypto-channel/the-race-to-the-first-bitcoin-etf/\" title=\"First Bitcoin ETF\">First Bitcoin ETF</a></li><li><a href=\"/etf-education/\" title=\"ETF Education\">ETF Education</a></li><li><a href=\"/etfs/asset-class/equity/\" title=\"Equity Investing\">Equity Investing</a></li><li><a href=\"/etfs/investment-style/dividend-etfs/\" title=\"Dividend ETFs\">Dividend ETFs</a></li></ul></div><div class=\"col-sm-4 col-md-4 col-lg-4\"><ul class=\"multi-column-dropdown\"><li><a href=\"/etfs/leveraged/equity/\" title=\"Leveraged ETFs\">Leveraged ETFs</a></li><li><a href=\"/etfs/inverse/equity/\" title=\"Inverse ETFs\">Inverse ETFs</a></li></ul></div><div class=\"col-sm-4 col-md-4 col-lg-4\"><ul class=\"multi-column-dropdown\"><li><a href=\"/etfs/sector/\" title=\"Top ETF Sectors\">Top ETF Sectors</a></li><li><a href=\"/etfs/issuers/\" title=\"Top ETF Issuers\">Top ETF Issuers</a></li><li><a href=\"/etfs/industry/\" title=\"Top ETF Industries\">Top ETF Industries</a></li></ul></div></div></div></li><li class=\"nav-item\"><a href=\"https://www.etftrends.com/webcasts/?utm_source=ETFdb-Navigation&amp;utm_medium=nav&amp;utm_campaign=webcasts\" title=\"Webcasts\">Webcasts</a></li><li class=\"nav-item dropdown\"><a class=\"dropdown-toggle\" data-toggle=\"dropdown\" href=\"//etfdb.com/etfdb-categories/\" title=\"Themes\">Themes<span class=\"caret\"></span></a><div class=\"dropdown-menu multi-columns\"><div class=\"row\"><div class=\"dropdown-menu-top-bar\"></div><div class=\"col-sm-6 col-md-6 col-lg-6\"><ul class=\"multi-column-dropdown\"><li><a href=\"/themes/artificial-intelligence-etfs/\" title=\"AI ETFs\">AI ETFs</a></li><li><a href=\"/themes/blockchain-etfs/\" title=\"Blockchain ETFs\">Blockchain ETFs</a></li><li><a href=\"https://etfdb.com/themes/ \" title=\"See all Thematic Investing ETF themes\">See all Thematic Investing ETF themes</a></li></ul></div><div class=\"col-sm-6 col-md-6 col-lg-6\"><ul class=\"multi-column-dropdown\"><li><a href=\"/esg-investing/\" title=\"ESG Investing\">ESG Investing</a></li><li><a href=\"/themes/marijuana-etfs/\" title=\"Marijuana ETFs\">Marijuana ETFs</a></li></ul></div></div></div></li><li class=\"nav-item dropdown\"><a class=\"dropdown-toggle\" data-toggle=\"dropdown\" title=\"Videos &amp; Podcasts\">Videos &amp; Podcasts<span class=\"caret\"></span></a><div class=\"dropdown-menu multi-columns\"><div class=\"row\"><div class=\"dropdown-menu-top-bar\"></div><div class=\"col-sm-6 col-md-6 col-lg-6\"><ul class=\"multi-column-dropdown\"><li><a href=\"https://www.etftrends.com/etf-360-channel/\" title=\"ETF 360 Video Series\">ETF 360 Video Series</a></li><li><a href=\"https://www.etftrends.com/category/video/\" title=\"ETF Trends on Videos\">ETF Trends on Videos</a></li><li><a href=\"https://www.etftrends.com/category/podcasts/\" title=\"ETF Trends on Podcasts\">ETF Trends on Podcasts</a></li></ul></div><div class=\"col-sm-6 col-md-6 col-lg-6\"><ul class=\"multi-column-dropdown\"><li><a href=\"/etf-prime/\" title=\"ETF Prime Podcast\">ETF Prime Podcast</a></li></ul></div></div></div></li>\n",
       "</ul>\n",
       "<ul class=\"nav navbar-nav nav-right-menu navbar-right\">\n",
       "<li class=\"dropdown\">\n",
       "<a class=\"has-submenu dropdown-toggle\" data-toggle=\"dropdown\" href=\"//etfdb.com/members/pro/\" title=\"PRO\">\n",
       "PRO\n",
       "<span class=\"caret\"></span>\n",
       "</a>\n",
       "<ul class=\"dropdown-menu\">\n",
       "<div class=\"dropdown-menu-top-bar\"></div>\n",
       "<li>\n",
       "<a href=\"/premium-articles/\">\n",
       "Pro Content\n",
       "</a>\n",
       "</li>\n",
       "<li>\n",
       "<a href=\"/members/pro/\">\n",
       "Pro Tools\n",
       "</a>\n",
       "</li>\n",
       "</ul>\n",
       "</li>\n",
       "<li class=\"dropdown hidden-xs\">\n",
       "<a class=\"has-submenu dropdown-toggle\" data-toggle=\"dropdown\" href=\"/screener/\">\n",
       "<span class=\"fa fa-search\"></span>\n",
       "<span class=\"caret\"></span>\n",
       "</a>\n",
       "<ul class=\"dropdown-menu\">\n",
       "<div class=\"dropdown-menu-top-bar\"></div>\n",
       "<li>\n",
       "<div class=\"typeahead-container\">\n",
       "<form accept-charset=\"UTF-8\" action=\"/search\" class=\"search\" method=\"get\"><input name=\"utf8\" type=\"hidden\" value=\"✓\"/>\n",
       "<input id=\"sort_field\" name=\"s_f\" type=\"hidden\" value=\"\"/>\n",
       "<input id=\"search_word\" name=\"s_w\" type=\"hidden\" value=\"\"/>\n",
       "<div class=\"form-field-container\">\n",
       "<input autocomplete=\"off\" class=\"form-control typeahead\" data-displaykey=\"name\" data-handlebar=\"{{symbol}} – {{name}}\" data-redirect=\"/search?q={{symbol}}\" data-searchremote=\"/search.json?q=%QUERY\" id=\"desktop-search-typeahead\" name=\"q\" placeholder=\"Type to search\" spellcheck=\"false\" type=\"text\" value=\"\">\n",
       "<button class=\"btn btn-default\" name=\"button\" type=\"submit\"><span class=\"fa fa-search\"></span>\n",
       "</button></input></div>\n",
       "</form>\n",
       "</div>\n",
       "<div class=\"search-right\">\n",
       "<a data-analytics-track-click='{\"category\":\"Advanced Search\",\"action\":\"click\",\"label\":\"Advanced Link\"}' href=\"/screener/\">Advanced</a>\n",
       "</div>\n",
       "</li>\n",
       "</ul>\n",
       "</li>\n",
       "<li class=\"dropdown\">\n",
       "<a class=\"has-submenu dropdown-toggle\" data-toggle=\"dropdown\" href=\"#\">\n",
       "<span class=\"fa fa-user\"></span>\n",
       "<span class=\"caret\"></span>\n",
       "</a>\n",
       "<ul class=\"dropdown-menu\">\n",
       "<div class=\"dropdown-menu-top-bar\"></div>\n",
       "<li class=\"first-level-link\"><a href=\"/faq/\">FAQ</a></li>\n",
       "<li class=\"first-level-link\"><a href=\"/pricing/\">Pricing</a></li>\n",
       "<li class=\"first-level-link\"><a class=\"premium-link\" href=\"/members/join/\">Free Sign Up</a></li>\n",
       "<li class=\"first-level-link\"><a class=\"premium-link\" href=\"/members/login/?redirect_url=%2Fetf%2FVOO\">Login</a></li>\n",
       "</ul>\n",
       "</li>\n",
       "</ul>\n",
       "</div>\n",
       "</div>\n",
       "</div>\n",
       "</div>\n",
       "</div>\n",
       "</div>\n",
       "<script>\n",
       "  Mitre.headerSurvey = false;\n",
       "</script>\n",
       "</div>"
      ]
     },
     "execution_count": 10,
     "metadata": {},
     "output_type": "execute_result"
    }
   ],
   "source": [
    "bs_obj.findAll('div')[0]"
   ]
  },
  {
   "cell_type": "code",
   "execution_count": 11,
   "metadata": {},
   "outputs": [
    {
     "data": {
      "text/plain": [
       "[]"
      ]
     },
     "execution_count": 11,
     "metadata": {},
     "output_type": "execute_result"
    }
   ],
   "source": [
    "bs_obj.findAll(\"\", {\"class\":\"pull-right\"})"
   ]
  },
  {
   "cell_type": "code",
   "execution_count": 12,
   "metadata": {},
   "outputs": [
    {
     "data": {
      "text/plain": [
       "'Vanguard S&P 500 ETF   ETF DatabaseChannelsActive ETFAlternativesBeyond Basic BetaChina InsightsClimate InsightsCommoditiesCore StrategiesCryptoDisruptive TechnologyDividendDual ImpactEmerging MarketsEnergy InfrastructureESGETF Building BlocksETF Education ETF StrategistFixed IncomeFree Cash FlowFuture ETFsGlobal DiversificationGold & Silver Investing Innovative ETFsInstitutional Income StrategiesLeveraged & InverseManaged FuturesMegatrendsModern AlphaMulti-AssetPortfolio StrategiesRetirement IncomeThematic InvestingVolatility ResourceToolsETF ScreenerETF Country Exposure ToolETF Sector Tracker Tool ETF Database CategoriesHead-To-Head ETF Comparison ToolETF Stock Exposure ToolETF Issuer Fund FlowsIndexesMutual Fund To ETF ConverterETF Data for JournalistsETF NerdsResearchFirst Bitcoin ETFETF EducationEquity InvestingDividend ETFsLeveraged ETFsInverse ETFsTop ETF SectorsTop ETF IssuersTop ETF IndustriesWebcastsThemesAI ETFsBlockchain ETFsSee all Thematic Investing ETF themesESG InvestingMarijuana ETFsVideos & PodcastsETF 360 Video SeriesETF Trends on VideosETF Trends on PodcastsETF Prime PodcastPROPro ContentPro ToolsAdvancedFAQPricingFree Sign UpLogin      IssuersVanguardVOOVOOVanguard S&P 500 ETFPrice:$369.84Change:$2.3 (0.01%)Category:Large Cap Growth EquitiesLast Updated:Nov 23, 20222022-11-23AdvertisementVOOProfileVOOStock Profile & PriceDividend & ValuationExpenses Ratio & FeesHoldingsHoldings Analysis ChartsPrice and Volume ChartsFund Flows ChartsPrice vs Flows AUM Influence ChartsESGPerformanceTechnicalsRealtime RatingNEW!Advisor Report & Fact SheetRead NextMore at ETF TrendsData Lineage & Disclosures VOO Stock Profile & PriceDividend & ValuationExpenses Ratio & FeesHoldingsHoldings Analysis ChartsPrice and Volume ChartsFund Flows ChartsPrice vs Flows AUM Influence ChartsESGPerformanceTechnicalsRealtime RatingNEW! Advisor Report & Fact SheetRead NextMore at ETF TrendsData Lineage & DisclosuresVitalsIssuerVanguardBrandVanguardStructureETFExpense Ratio0.03%ETF Home PageHome pageInceptionSep 07, 2010Index TrackedS&P 500 IndexAnalyst ReportFA Report PDFThis ETF tracks the S&P 500 Index, one of the most famous benchmarks in the world and one that tracks some of America’s largest companies. As a result, investors should think of this as a play on mega and large cap stocks in the American market. These securities are usually known as ‘Blue Chips’ and are some of the most famous and profitable companies in the country, including well known names such as ExxonMobil, Apple, IBM, and GE. The fund is probably one of the safest in the equity world as the companies on this list are very unlikely to go under unless there is an apocalyptic event in the economy. However, these securities are unlikely to grow very much either as they are already pretty large and have probably seen their quickest growing days in years past, but most do pay out solid dividends which should help to ease the pain of this realization. Overall, VOO is a quality choice for investors seeking broad mega and large cap exposure and it is more diversified than most, containing just over 500 securities in total. As a result, this fund could serve as a building block for many portfolios making it an excellent choice for many buy and holders, especially for those looking to keep costs at a minimum.ETF Database ThemesCategoryLarge Cap Growth EquitiesAsset ClassEquityAsset Class SizeLarge-CapAsset Class StyleBlendRegion (General)North AmericaRegion (Specific)U.S.FactSet ClassificationsSegmentEquity: U.S.  -  Large CapCategorySize and StyleFocusLarge CapNicheBroad-basedStrategyVanillaWeighting SchemeMarket CapTrading DataOpen-Volume-Day Lo-Day Hi-OpenVolumeDay LoDay Hi52 Week Lo$319.8752 Week Hi$436.07AUM$272,816.0 MShares742.4 MHistorical Trading Data1 Month Avg. Volume4,211,2213 Month Avg. Volume4,589,599 Alternative ETFs in the ETF Database Large Cap Growth Equities CategoryTypeSymbolExpense RatioAssetsAvg. Daily VolYTD ReturnCheapestSFY0.00%$404.6 M140,186-18.56%Largest (AUM)SPY0.09%$379.4 B90 M-14.29%Most Liquid (Volume)SPY0.09%$379.4 B90 M-14.29%Top YTD PerformerCCOR1.07%$560.9 M155,3064.85%Alternative ETFs in the FactSet Equity: U.S.  -  Large Cap SegmentTypeSymbolExpense RatioAssetsAvg. Daily VolYTD ReturnCheapestBKLC0.00%$451.7 M21,439-16.49%Largest (AUM)SPY0.09%$379.4 B90 M-14.29%Most Liquid (Volume)SPY0.09%$379.4 B90 M-14.29%Top YTD PerformerEQRR0.35%$76.1 M11,2338.98%Top 15 HoldingsNewVanguard S&P 500 ETFSymbolSymbolHoldingHolding% Assets% AssetsAAPL Apple Inc. 7.08%MSFT Microsoft Corporation 5.29%AMZN Amazon.com, Inc. 2.78%TSLA Tesla Inc 1.85%GOOGL Alphabet Inc. Class A 1.73%BRK.B Berkshire Hathaway Inc. Class B 1.63%UNH UnitedHealth Group Incorporated 1.59%GOOG Alphabet Inc. Class C 1.55%XOM Exxon Mobil Corporation 1.41%JNJ Johnson & Johnson 1.40%JPM JPMorgan Chase & Co. 1.13%NVDA NVIDIA Corporation 1.03%V Visa Inc. Class A 1.03%CVX Chevron Corporation 1.00%PG Procter & Gamble Company 0.98%Export All Holdings to CSV with ETF Database ProConcentration AnalysisThis section compares how balanced and deep this ETF is relative to its peers.Holdings ComparisonVOOETF Database Category AverageFactSet Segment AverageNumber of Holdings504369146% of Assets in Top 1026.31%37.61%52.80% % of Assets in Top 1531.48%45.51%57.42%% of Assets in Top 5052.37%72.62%75.10%Size ComparisonVOOETF Database Category AverageFactSet Segment AverageLarge (>12.9B)96.98%81.60%49.44%Mid (>2.7B)2.40%7.39%4.48%Small (>600M)0.00%0.78%0.11%Micro (<600M)0.00%0.10%0.00%VOO ValuationThis section compares the P/E ratio of this ETF to its peers.VOOP/E Ratio24.30ETF Database Category AverageP/E Ratio26.09FactSet Segment AverageP/E Ratio19.01VOO DividendThis section compares the dividend yield of this ETF to its peers.VOOETF Database Category AverageFactSet Segment AverageDividend$ 1.31$ 0.24$ 0.15Dividend Date2021-09-29N/AN/AAnnual Dividend Rate$ 5.29$ 0.79$ 0.50Annual Dividend Yield1.24%0.95%0.76%VOO Price and Volume ChartsView charts featuring VOO price and volume data.VOO Fund Flows ChartsNewView charts featuring ETF fund flow data.5 Day Net Flows:-3.99 B1 Month Net Flows:-687.12 M3 Month Net Flows:5.78 B6 Month Net Flows:21.84 B1 Year Net Flows:37.02 B3 Year Net Flows:107.3 B5 Year Net Flows:134.6 B10 Year Net Flows:189.15 BVOO Price vs Flows AUM Influence ChartsView charts that break down the influence that fund flows and price had on overall assets.5 Day Net AUM Change:-3 B1 Month Net AUM Change:21.35 B3 Month Net AUM Change:-11.92 B6 Month Net AUM Change:27.37 B1 Year Net AUM Change:-5.23 B3 Year Net AUM Change:147.45 B5 Year Net AUM Change:193.19 B10 Year Net AUM Change:267 BRealtime RatingThe adjacent table gives investors an individual Realtime Rating for VOO on several different metrics, including liquidity, expenses, performance, volatility, dividend, concentration of holdings in addition to an overall rating. The \"A+ Metric Rated ETF\" field, available to ETF Database Pro members, shows the ETF in the Large Cap Growth Equities with the highest Metric Realtime Rating for each individual field. To view all of this data, sign up for a free 14-day trial for ETF Database Pro. To view information on how the ETF Database Realtime Ratings work, click here.Overall RatingCompare|Category ReportSign Up for Pro to Unlock DataSign UpMetricMetric Realtime RatingA+ Metric Rated ETFLiquidityAVTIExpensesAVOXPerformanceVolatilityDividendConcentrationA+ Overall Rated ETF:Compare|Category ReportVOO Expenses & FeesThis section compares the cost efficiency of this ETF to its peers.Expenses Ratio AnalysisVOOExpense Ratio0.03%ETF Database Category AverageExpense Ratio0.37%FactSet Segment AverageExpense Ratio0.56%Tax AnalysisMax ST Capital Gains Rate39.60%Max LT Capital Gains Rate20.00%Tax On DistributionsQualified dividendsDistributes K1NoESG Themes and ScoresNew8.98/10ESG Score82.48%Global Percentile67.36%Peer PercentileEnvironmentalSocialGovernanceEnvironmental ScoresRevenue Exposure to Environmental Impact (%)Higher is better, no ESG score impactSevere Environment Controversies (%)Lower improves ESG scoreSustainable Impact Solutions (%)5.83%Higher is better, no ESG score impactCarbon IntensityWeighted Average Carbon Intensity (Tons of CO2e / $M Sales)146.3Higher is worse, no ESG score impactFossil Fuel ReservesFossil Fuel Reserves (%)Higher is worse, no ESG score impactHigh Impact Fossil Fuel Reserves (%)Higher is worse, no ESG score impactWater StressWater Stress High Risk Business Segment (%)Lower improves ESG scoreWater Stress High Risk Geography (%)Lower improves ESG scoreWater Stress Exposure Moderate (%)Lower improves ESG scoreWater Stress Exposure High (%)Lower improves ESG scoreWater Stress Exposure Low (%)Higher improves ESG scoreEnergy EfficiencyRevenue Exposure to Energy Efficiency (%)Higher is better, no ESG score impactAlternative EnergyRevenue Exposure to Alternative Energy (%)Higher is better, no ESG score impactGreen BuildingRevenue Exposure to Green Building (%)Higher is better, no ESG score impactPollution PreventionRevenue Exposure to Pollution Prevention (%)Higher is better, no ESG score impactWater SustainabilityRevenue Exposure to Water Sustainability (%)Higher is better, no ESG score impactSocial ScoresRevenue Exposure to Social Impact (%)Higher is better, no ESG score impactSustainable Impact Solutions (%)5.83%Higher is better, no ESG score impactSRI Exclusion Criteria (%)6.94%Higher is worse, no ESG score impactAffordable Real EstateRevenue Exposure to Affordable Real Estate (%)Higher is better, no ESG score impactEducationRevenue Exposure to Education (%)Higher is better, no ESG score impactMajor Disease TreatmentRevenue Exposure to Major Disease Treatment (%)Higher is better, no ESG score impactHealthy NutritionRevenue Exposure to Nutrition (%)Higher is better, no ESG score impactGlobal SanitationRevenue Exposure to Sanitation (%)Higher is better, no ESG score impactSME FinanceRevenue Exposure to SME Finance (%)Higher is better, no ESG score impactHuman Rights ViolationsHuman Rights Norms Violation (%)Higher is worse, no ESG score impactHuman Rights Norms Violation OR Watch List (%)Higher is worse, no ESG score impactSevere Human Rights Controversies (%)Lower improves ESG scoreLabor Rights ViolationsLabor Norms Violation (%)Higher is worse, no ESG score impactLabor Norms Violation OR Watch List (%)Higher is worse, no ESG score impactSevere Labor Controversies (%)Lower improves ESG scoreCustomer ControversiesSevere Customer Controversies (%)Lower improves ESG scoreUN Principles ViolationsGlobal Compact Compliance Violation (%)Higher is worse, no ESG score impactGlobal Compact Compliance Violation OR Watch List (%)Higher is worse, no ESG score impactCatholic ValuesCatholic Values Fail (%)Higher is worse, no ESG score impactSharia Compliant InvestingIslamic Non-Compliant (%)Higher is worse, no ESG score impactAdult EntertainmentAdult Entertainment Involvement (%)Higher is worse, no ESG score impactAlcoholAlcohol Involvement (%)Higher is worse, no ESG score impactGamblingGambling Involvement (%)Higher is worse, no ESG score impactNuclear PowerNuclear Power Involvement (%)Higher is worse, no ESG score impactTobaccoTobacco Involvement (%)Higher is worse, no ESG score impactWeapons InvolvementWeapons Involvement (%)Higher is worse, no ESG score impactControversies Weapons Involvement (%)Higher is worse, no ESG score impactFirearmsCivilian Firearms Involvement (%)Higher is worse, no ESG score impactCivilian Firearms Retailer (%)Higher is worse, no ESG score impactCivilian Firearms Producer (%)Higher is worse, no ESG score impactPredatory LendingDirect Predatory Lending Involvement (%)Higher is worse, no ESG score impactGMO InvolvementGenetic Engineering Involvement (%)Higher is worse, no ESG score impactResponsible Governance ScoreSevere Governance Controversies (%)Lower improves ESG scoreBoard FlagBoard Flag (%)Lower improves ESG scoreBoard IndependenceLack of Independent Board Majority (%)Lower improves ESG scoreBoard Independence (0-25%) (%)Lower improves ESG scoreBoard Independence (25-50%) (%)Lower improves ESG scoreBoard Independence (50-75%) (%)Higher improves ESG scoreBoard Independence (75-100%) (%)Higher improves ESG scoreBoard DiversityNo Female Directors (%)Lower improves ESG scoreThree OR More Female Directors (%)Higher improves ESG scoreFemales Represent 30% of Directors (%)Higher improves ESG scoreEntrenched BoardEntrenched Board (%)Lower improves ESG scoreOverboardingOverboarding (%)Lower improves ESG scoreShareholder RightsNegative Director Votes (%)Lower improves ESG scoreOwnership AND Control Flag (%)Lower improves ESG scoreOne Share One Vote (%)Lower improves ESG scoreNo Annual Director Elections (%)Lower improves ESG scoreDoes Not Use Majority Voting (%)Lower improves ESG scoreSignificant Votes Against Pay Practices (%)Lower improves ESG scoreFund OwnershipControlling Shareholder (%)Lower improves ESG scoreControlling Shareholder Concerns (%)Lower improves ESG scoreCross Shareholdings (%)Lower improves ESG scorePoison PillPoison Pill (%)Lower improves ESG scoreExecutive CompensationPay Flag (%)Lower improves ESG scoreNo Pay Performance Link (%)Lower improves ESG scoreLack of Internal Pay Equity (%)Lower improves ESG scoreExecutive Pay Non-Disclosure (%)Lower improves ESG scoreAccounting FlagsAccounting Flag (%)Lower improves ESG scoreVOO PerformanceThis section shows how this ETF has performed relative to its peers.VOOETF DatabaseCategory AverageFactset SegmentAverage1 Month Return7.54%6.83%5.87%3 Month Return-2.23%-3.62%-0.48%YTD Return-14.28%-19.71%-8.06%1 Year Return-12.74%-19.11%-6.98%3 Year Return35.94%21.67%12.41%5 Year Return69.28%34.02%16.49%Geographic ExposureThe following charts reflect the geographic spread ofVOO\\'sunderlying holdings.RegionPercentageNorth, Central and South America99.32%Other0.62%CountryPercentageUnited States96.35%Ireland1.63%United Kingdom0.65%Other0.62%Switzerland0.43%Netherlands0.12%Bermuda0.1%Israel0.04%Holdings AnalysisThe following charts reflect the allocation ofVOO\\'sunderlying holdings.SectorPercentageTechnology Services15.13%Electronic Technology15.11%Finance13.4%Health Technology11.17%Retail Trade7.53%Consumer Non-Durables5.59%Energy Minerals4.57%Producer Manufacturing3.96%Consumer Services3.47%Commercial Services3.23%Health Services3.12%Utilities3.0%Consumer Durables2.55%Process Industries2.13%Transportation1.8%Communications1.18%Industrial Services1.08%Distribution Services0.8%CASH0.62%Non-Energy Minerals0.5%Market CapPercentageLarge96.98%Mid2.4%Small0.0%Micro0.0%RegionPercentageAssetPercentageShare/Common/Ordinary99.32%CASH0.62%\\xa0View Less Charts\\xa0SectorPercentageTechnology Services15.13%Electronic Technology15.11%Finance13.4%Health Technology11.17%Retail Trade7.53%Consumer Non-Durables5.59%Energy Minerals4.57%Producer Manufacturing3.96%Consumer Services3.47%Commercial Services3.23%Health Services3.12%Utilities3.0%Consumer Durables2.55%Process Industries2.13%Transportation1.8%Communications1.18%Industrial Services1.08%Distribution Services0.8%CASH0.62%Non-Energy Minerals0.5%\\xa0View More Charts\\xa0VOO TechnicalsVolatility AnalysisThis section shows how the volatility of this ETF compares to the peer group ETF Database Category.5 Day Volatility193.28%20 Day Volatility26.06%50 Day Volatility26.03%200 Day Volatility23.92%Beta0.99Standard Deviation28.67%\\xa0View Detailed Analysis\\xa05 Day Volatility193.28%Rank86of 208LowNUSI (23.44%)HighARKW (614.80%)20 Day Volatility26.06%Rank137of 208LowPSCW (7.78%)HighARKW (73.95%)50 Day Volatility26.03%Rank130of 208LowPSCW (8.18%)HighARKW (62.52%)200 Day Volatility23.92%Rank131of 207LowPSCW (8.97%)HighARKW (60.61%)Beta0.99Rank113of 199LowPSCW (0.33)HighBUZZ (1.83)Standard Deviation28.67%Rank7of 202LowPSCW (0.60%)HighQQQ (39.25%)\\xa0View Summary Analysis\\xa0Technicals20 Day MA$356.9260 Day MA$350.14MACD 15 Period11.25MACD 100 Period11.58Williams % Range 10 Day3.26Williams % Range 20 Day1.65RSI 10 Day66RSI 20 Day59RSI 30 Day56Ultimate Oscillator64Bollinger BandsLower Bollinger (10 Day)$359.28Upper Bollinger (10 Day)$369.19Lower Bollinger (20 Day)$340.36Upper Bollinger (20 Day)$373.32Lower Bollinger (30 Day)$329.87Upper Bollinger (30 Day)$373.24Support & ResistanceSupport Level 1$367.79Support Level 2$365.74Resistance Level 1$371.13Resistance Level 2$372.41StochasticStochastic Oscillator %D (1 Day)76.35Stochastic Oscillator %D (5 Day)75.86Stochastic Oscillator %K (1 Day)66.09Stochastic Oscillator %K (5 Day)66.09TradabilityTracking Difference Median (%)-0.05Tracking Difference Max Upside (%)-0.02Tracking Difference Max Downside (%)-0.07Median Premium Discount (%)0.01Maximum Premium Discount (%)0.11Average Spread (%)3.72Average Spread ($)3.72Financial Advisor ReportETF Database\\'s Financial Advisor Reports are designed as an easy handout for clients to explain the key information on a fund. Includes new analyst insights and classification data.Download the FA Report PDFFact SheetFact sheets are issued by the ETF provider and framed by ETF Database. Information contained within the fact sheet is not guaranteed to be timely or accurate.Download the Fact Sheet PDFRead NextLatest VOO NewsPRONewsSell on the Pop Prospects: November 2 EditionSneha ShahNov 02, 20222022-11-02Here is a look at ETFs that currently offer attractive short selling opportunities. The ETFs...NewsETF Growth Continues Despite Rough MarketTodd RosenbluthOct 03, 20222022-10-03When you see the largest ETF, the SPDR S&P 500 ETF (SPY A), down more than 20% year-to-date...NewsActive Managers Fared Better Than Indexes This YearTodd RosenbluthSep 15, 20222022-09-15The 12-month period ended June 2022 was relatively strong for actively managed U.S. equity mutual...Other ETFs in the ETF Database CategorySPYSPDR S&P 500 ETF TrustQQQInvesco QQQ TrustXLCCommunication Services Select Sector SPDR FundACWIiShares MSCI ACWI ETFIVViShares Core S&P 500 ETFQYLDGlobal X NASDAQ 100 Covered Call ETFVTIVanguard Total Stock Market ETFView More Large Cap Growth Equities ETFsPopular TopicsETFsSPYVisual History Of The S&P 500QQQStocks Kicked Out Of The NASDAQ-100 (QQQ) Since 1995DIAThe Original Businesses of Dow ComponentsView MoreDividendsBRKAThe Unofficial History of Warren BuffettAAPLWhat Can You Buy With Apple\\'s Cash?MSFT10 Hilariously Wrong Bull and Bear CallsView MoreData Lineage ETF Trends  and  ETF Database , the preeminent digital platforms for ETF news, research, tools, video, webcasts, native content channels, and more. The ETF Trends and ETF Database brands have been trusted amongst advisors, institutional investors, and individual investors for a combined 25 years. The firms are uniquely positioned to aid advisor’s education, adoption, and usage of ETFs, as well as the asset management community’s transition from traditionally analog to digital interactions with the advisor community.Our team at ETF Database is committed to making our website the premier source of information on ETF investing with the world’s highest quality ETF tools, content, and resources.Have Questions?  Contact Us. Powered By:Analyst Report AuthorsETF Database analysts have a combined 50 years in the ETF and Financial markets, covering every asset class and investment style. The team monitors new filings, new launches and new issuers to make sure we place each new ETF in the appropriate context so Financial Advisors can construct high quality portfolios.DisclosuresCopyright © 2022 FactSet Research Systems Inc.       All rights reserved.Copyright MSCI ESG Research LLC [2018]. All  Rights  Reserved. MSCI ESG Research LLC’s (“MSCI ESG”) Fund Metrics products (the “Information”) provide environmental, social and governance data with respect to underlying securities within more than  23,000 multi-asset  class Mutual Funds and ETFs globally. MSCI ESG is a Registered Investment Adviser under the Investment Advisers Act of 1940. MSCI ESG materials have not been submitted, to nor received approval from, the US SEC or any other regulatory body. None of the information constitutes an offer to buy or sell, or a promotion or recommendation of, any security, financial instrument or product or trading strategy, nor should it be taken as an indication or guarantee of any future  performance,  analysis, forecast or prediction. None of the Information can be used to determine which securities to buy or sell or when to buy or sell them. The Information is provided “as is” and the user of the Information assumes the entire risk of any use it may make or permit to be made of the Information. All Information is provided solely for your internal use, and may not be reproduced or redisseminated in any form without express prior written permission from MSCI. Neither MSCI ESG nor any of its affiliates or any third party involved in or related to creating any Information makes any express or implied warranties, representations or guarantees, and in no event will MSCI ESG or any such affiliate or third party have any liability for any direct, indirect, special, punitive, consequential or any other damages (including  lost profits) relating to any Information. More information on MSCI ESG Fund Metrics, provided by MSCI ESG Research LLC, can be found at https://www.msci.com/esg-fund-metrics.© 2022 Market data provided is at least 15-minutes delayed and hosted by Barchart Solutions. Information is provided \\'as is\\' and solely for informational purposes, not for trading purposes or advice, and is delayed. To see all exchange delays and terms of use, please see disclaimer.          Loading Articles... Help & InfoContact UsToolsETF ScreenerETF AnalyzerMutual Fund to ETF ConverterHead-To-Head ETF ComparisonETF Country Exposure ToolETF Stock Exposure ToolETF Performance VisualizerETF Database Model PortfoliosETF Database Realtime RatingsETF Database ProMore ToolsETF Launch CenterFinancial Advisor & RIA CenterETF Database RSS FeedExplore ETFsETF NewsETF Picks of the MonthETF Category ReportsPremium ArticlesAlphabetical Listing of ETFsBest ETFsBrowse ETFs by ETF Database CategoryBrowse ETFs by IndexBrowse ETFs by IssuerCompare ETFsLegalTerms of Use and Privacy Policy©2022VettaFi LLC. All rights reserved.FollowETF DatabaseFollowETF Database×CloseAdvertisement  Close×CloseIs Your Portfolio Positioned With Enough Global Exposure?ETF Education ChannelHow to Allocate Commodities in PortfoliosTom LydonApr 26, 20222022-04-26A long-running debate in asset allocation circles is how much of a portfolio an investor should...Core Strategies ChannelWhy ETFs Experience Limit Up/Down ProtectionsKarrie GordonMay 13, 20222022-05-13In a digital age where information moves in milliseconds and millions of participants can transact...   Close}X  ×CloseComing SoonSign up now to be the first to get access to our newest reports!Using industry leader FactSet\\'s innovative ETF Classification System and ETF Database\\'s analyst team, we\\'ve developed new single page reports specifically for financial advisors.Must be a US-based Financial Professional.I certify that I am a US-based Financial Professional.I agree to the ETF DatabaseTerms of Service.'"
      ]
     },
     "execution_count": 12,
     "metadata": {},
     "output_type": "execute_result"
    }
   ],
   "source": [
    "bs_obj.get_text().replace(\"\\n\",\"\")"
   ]
  },
  {
   "cell_type": "code",
   "execution_count": 13,
   "metadata": {},
   "outputs": [],
   "source": [
    "import investiny"
   ]
  },
  {
   "cell_type": "code",
   "execution_count": 14,
   "metadata": {},
   "outputs": [
    {
     "ename": "ConnectionError",
     "evalue": "Request to Investing.com API failed with error code: 403.",
     "output_type": "error",
     "traceback": [
      "\u001b[1;31m---------------------------------------------------------------------------\u001b[0m",
      "\u001b[1;31mConnectionError\u001b[0m                           Traceback (most recent call last)",
      "\u001b[1;32mc:\\Users\\Dongwook Jung\\Home\\dongwook-src\\stock-database-builder\\test.ipynb 셀 9\u001b[0m in \u001b[0;36m<cell line: 1>\u001b[1;34m()\u001b[0m\n\u001b[1;32m----> <a href='vscode-notebook-cell:/c%3A/Users/Dongwook%20Jung/Home/dongwook-src/stock-database-builder/test.ipynb#X11sZmlsZQ%3D%3D?line=0'>1</a>\u001b[0m investiny\u001b[39m.\u001b[39;49msearch_assets(query\u001b[39m=\u001b[39;49m\u001b[39m\"\u001b[39;49m\u001b[39mQQQ\u001b[39;49m\u001b[39m\"\u001b[39;49m)\n",
      "File \u001b[1;32mc:\\Users\\Dongwook Jung\\Anaconda3\\envs\\pythonProject\\lib\\site-packages\\investiny\\search.py:42\u001b[0m, in \u001b[0;36msearch_assets\u001b[1;34m(query, limit, type, exchange)\u001b[0m\n\u001b[0;32m     25\u001b[0m \u001b[39m\"\"\"Search any available asset at Investing.com.\u001b[39;00m\n\u001b[0;32m     26\u001b[0m \n\u001b[0;32m     27\u001b[0m \u001b[39mArgs:\u001b[39;00m\n\u001b[1;32m   (...)\u001b[0m\n\u001b[0;32m     34\u001b[0m \u001b[39m    A list of dictionaries with the search results from Investing.com.\u001b[39;00m\n\u001b[0;32m     35\u001b[0m \u001b[39m\"\"\"\u001b[39;00m\n\u001b[0;32m     36\u001b[0m params \u001b[39m=\u001b[39m {\n\u001b[0;32m     37\u001b[0m     \u001b[39m\"\u001b[39m\u001b[39mquery\u001b[39m\u001b[39m\"\u001b[39m: query,\n\u001b[0;32m     38\u001b[0m     \u001b[39m\"\u001b[39m\u001b[39mlimit\u001b[39m\u001b[39m\"\u001b[39m: limit,\n\u001b[0;32m     39\u001b[0m     \u001b[39m\"\u001b[39m\u001b[39mtype\u001b[39m\u001b[39m\"\u001b[39m: \u001b[39mtype\u001b[39m \u001b[39mif\u001b[39;00m \u001b[39mtype\u001b[39m \u001b[39melse\u001b[39;00m \u001b[39m\"\u001b[39m\u001b[39m\"\u001b[39m,\n\u001b[0;32m     40\u001b[0m     \u001b[39m\"\u001b[39m\u001b[39mexchange\u001b[39m\u001b[39m\"\u001b[39m: exchange \u001b[39mif\u001b[39;00m exchange \u001b[39melse\u001b[39;00m \u001b[39m\"\u001b[39m\u001b[39m\"\u001b[39m,\n\u001b[0;32m     41\u001b[0m }\n\u001b[1;32m---> 42\u001b[0m \u001b[39mreturn\u001b[39;00m request_to_investing(endpoint\u001b[39m=\u001b[39;49m\u001b[39m\"\u001b[39;49m\u001b[39msearch\u001b[39;49m\u001b[39m\"\u001b[39;49m, params\u001b[39m=\u001b[39;49mparams)\n",
      "File \u001b[1;32mc:\\Users\\Dongwook Jung\\Anaconda3\\envs\\pythonProject\\lib\\site-packages\\investiny\\utils.py:36\u001b[0m, in \u001b[0;36mrequest_to_investing\u001b[1;34m(endpoint, params)\u001b[0m\n\u001b[0;32m     34\u001b[0m r \u001b[39m=\u001b[39m httpx\u001b[39m.\u001b[39mget(url, params\u001b[39m=\u001b[39mparams, headers\u001b[39m=\u001b[39mheaders)\n\u001b[0;32m     35\u001b[0m \u001b[39mif\u001b[39;00m r\u001b[39m.\u001b[39mstatus_code \u001b[39m!=\u001b[39m \u001b[39m200\u001b[39m:\n\u001b[1;32m---> 36\u001b[0m     \u001b[39mraise\u001b[39;00m \u001b[39mConnectionError\u001b[39;00m(\n\u001b[0;32m     37\u001b[0m         \u001b[39mf\u001b[39m\u001b[39m\"\u001b[39m\u001b[39mRequest to Investing.com API failed with error code: \u001b[39m\u001b[39m{\u001b[39;00mr\u001b[39m.\u001b[39mstatus_code\u001b[39m}\u001b[39;00m\u001b[39m.\u001b[39m\u001b[39m\"\u001b[39m\n\u001b[0;32m     38\u001b[0m     )\n\u001b[0;32m     39\u001b[0m d \u001b[39m=\u001b[39m r\u001b[39m.\u001b[39mjson()\n\u001b[0;32m     41\u001b[0m \u001b[39mif\u001b[39;00m endpoint \u001b[39min\u001b[39;00m [\u001b[39m\"\u001b[39m\u001b[39mhistory\u001b[39m\u001b[39m\"\u001b[39m, \u001b[39m\"\u001b[39m\u001b[39mquotes\u001b[39m\u001b[39m\"\u001b[39m] \u001b[39mand\u001b[39;00m d[\u001b[39m\"\u001b[39m\u001b[39ms\u001b[39m\u001b[39m\"\u001b[39m] \u001b[39m!=\u001b[39m \u001b[39m\"\u001b[39m\u001b[39mok\u001b[39m\u001b[39m\"\u001b[39m:\n",
      "\u001b[1;31mConnectionError\u001b[0m: Request to Investing.com API failed with error code: 403."
     ]
    }
   ],
   "source": [
    "investiny.search_assets(query=\"QQQ\")"
   ]
  },
  {
   "cell_type": "code",
   "execution_count": null,
   "metadata": {},
   "outputs": [
    {
     "ename": "ConnectionError",
     "evalue": "Request to Investing.com API failed with error code: 403.",
     "output_type": "error",
     "traceback": [
      "\u001b[1;31m---------------------------------------------------------------------------\u001b[0m",
      "\u001b[1;31mConnectionError\u001b[0m                           Traceback (most recent call last)",
      "\u001b[1;32mc:\\Users\\Dongwook Jung\\Home\\dongwook-src\\stock-database-builder\\test.ipynb 셀 4\u001b[0m in \u001b[0;36m<cell line: 1>\u001b[1;34m()\u001b[0m\n\u001b[1;32m----> <a href='vscode-notebook-cell:/c%3A/Users/Dongwook%20Jung/Home/dongwook-src/stock-database-builder/test.ipynb#X21sZmlsZQ%3D%3D?line=0'>1</a>\u001b[0m investiny\u001b[39m.\u001b[39;49minfo(\u001b[39m'\u001b[39;49m\u001b[39mqqq\u001b[39;49m\u001b[39m'\u001b[39;49m)\n",
      "File \u001b[1;32mc:\\Users\\Dongwook Jung\\Anaconda3\\envs\\pythonProject\\lib\\site-packages\\investiny\\info.py:19\u001b[0m, in \u001b[0;36minfo\u001b[1;34m(asset)\u001b[0m\n\u001b[0;32m      6\u001b[0m \u001b[39mdef\u001b[39;00m \u001b[39minfo\u001b[39m(asset: Union[\u001b[39mstr\u001b[39m, List[\u001b[39mstr\u001b[39m]]) \u001b[39m-\u001b[39m\u001b[39m>\u001b[39m Dict[\u001b[39mstr\u001b[39m, Any]:\n\u001b[0;32m      7\u001b[0m     \u001b[39m\"\"\"Get assets' public information available at Investing.com\u001b[39;00m\n\u001b[0;32m      8\u001b[0m \n\u001b[0;32m      9\u001b[0m \u001b[39m    Args:\u001b[39;00m\n\u001b[1;32m   (...)\u001b[0m\n\u001b[0;32m     17\u001b[0m \u001b[39m        key is the asset name and the value is a dictionary with the asset's information.\u001b[39;00m\n\u001b[0;32m     18\u001b[0m \u001b[39m    \"\"\"\u001b[39;00m\n\u001b[1;32m---> 19\u001b[0m     results \u001b[39m=\u001b[39m request_to_investing(\n\u001b[0;32m     20\u001b[0m         endpoint\u001b[39m=\u001b[39;49m\u001b[39m\"\u001b[39;49m\u001b[39mquotes\u001b[39;49m\u001b[39m\"\u001b[39;49m,\n\u001b[0;32m     21\u001b[0m         params\u001b[39m=\u001b[39;49m{\u001b[39m\"\u001b[39;49m\u001b[39msymbols\u001b[39;49m\u001b[39m\"\u001b[39;49m: asset \u001b[39mif\u001b[39;49;00m \u001b[39misinstance\u001b[39;49m(asset, \u001b[39mstr\u001b[39;49m) \u001b[39melse\u001b[39;49;00m \u001b[39m\"\u001b[39;49m\u001b[39m,\u001b[39;49m\u001b[39m\"\u001b[39;49m\u001b[39m.\u001b[39;49mjoin(asset)},\n\u001b[0;32m     22\u001b[0m     )\n\u001b[0;32m     23\u001b[0m     actual_results \u001b[39m=\u001b[39m results[\u001b[39m\"\u001b[39m\u001b[39md\u001b[39m\u001b[39m\"\u001b[39m]  \u001b[39m# type: ignore\u001b[39;00m\n\u001b[0;32m     24\u001b[0m     \u001b[39mif\u001b[39;00m \u001b[39mlen\u001b[39m(actual_results) \u001b[39m<\u001b[39m \u001b[39m2\u001b[39m:\n",
      "File \u001b[1;32mc:\\Users\\Dongwook Jung\\Anaconda3\\envs\\pythonProject\\lib\\site-packages\\investiny\\utils.py:36\u001b[0m, in \u001b[0;36mrequest_to_investing\u001b[1;34m(endpoint, params)\u001b[0m\n\u001b[0;32m     34\u001b[0m r \u001b[39m=\u001b[39m httpx\u001b[39m.\u001b[39mget(url, params\u001b[39m=\u001b[39mparams, headers\u001b[39m=\u001b[39mheaders)\n\u001b[0;32m     35\u001b[0m \u001b[39mif\u001b[39;00m r\u001b[39m.\u001b[39mstatus_code \u001b[39m!=\u001b[39m \u001b[39m200\u001b[39m:\n\u001b[1;32m---> 36\u001b[0m     \u001b[39mraise\u001b[39;00m \u001b[39mConnectionError\u001b[39;00m(\n\u001b[0;32m     37\u001b[0m         \u001b[39mf\u001b[39m\u001b[39m\"\u001b[39m\u001b[39mRequest to Investing.com API failed with error code: \u001b[39m\u001b[39m{\u001b[39;00mr\u001b[39m.\u001b[39mstatus_code\u001b[39m}\u001b[39;00m\u001b[39m.\u001b[39m\u001b[39m\"\u001b[39m\n\u001b[0;32m     38\u001b[0m     )\n\u001b[0;32m     39\u001b[0m d \u001b[39m=\u001b[39m r\u001b[39m.\u001b[39mjson()\n\u001b[0;32m     41\u001b[0m \u001b[39mif\u001b[39;00m endpoint \u001b[39min\u001b[39;00m [\u001b[39m\"\u001b[39m\u001b[39mhistory\u001b[39m\u001b[39m\"\u001b[39m, \u001b[39m\"\u001b[39m\u001b[39mquotes\u001b[39m\u001b[39m\"\u001b[39m] \u001b[39mand\u001b[39;00m d[\u001b[39m\"\u001b[39m\u001b[39ms\u001b[39m\u001b[39m\"\u001b[39m] \u001b[39m!=\u001b[39m \u001b[39m\"\u001b[39m\u001b[39mok\u001b[39m\u001b[39m\"\u001b[39m:\n",
      "\u001b[1;31mConnectionError\u001b[0m: Request to Investing.com API failed with error code: 403."
     ]
    }
   ],
   "source": [
    "investiny.info('qqq')"
   ]
  },
  {
   "cell_type": "code",
   "execution_count": null,
   "metadata": {},
   "outputs": [
    {
     "ename": "RuntimeError",
     "evalue": "ERR#0019: etf qqq not found, check if it is correct.",
     "output_type": "error",
     "traceback": [
      "\u001b[1;31m---------------------------------------------------------------------------\u001b[0m",
      "\u001b[1;31mRuntimeError\u001b[0m                              Traceback (most recent call last)",
      "\u001b[1;32mc:\\Users\\Dongwook Jung\\Home\\dongwook-src\\stock-database-builder\\test.ipynb 셀 4\u001b[0m in \u001b[0;36m<cell line: 1>\u001b[1;34m()\u001b[0m\n\u001b[1;32m----> <a href='vscode-notebook-cell:/c%3A/Users/Dongwook%20Jung/Home/dongwook-src/stock-database-builder/test.ipynb#X16sZmlsZQ%3D%3D?line=0'>1</a>\u001b[0m investpy\u001b[39m.\u001b[39;49mget_etf_recent_data(\u001b[39m'\u001b[39;49m\u001b[39mqqq\u001b[39;49m\u001b[39m'\u001b[39;49m, country\u001b[39m=\u001b[39;49m\u001b[39m'\u001b[39;49m\u001b[39munited states\u001b[39;49m\u001b[39m'\u001b[39;49m)\n",
      "File \u001b[1;32mc:\\Users\\Dongwook Jung\\Anaconda3\\envs\\pythonProject\\lib\\site-packages\\investpy\\etfs.py:317\u001b[0m, in \u001b[0;36mget_etf_recent_data\u001b[1;34m(etf, country, stock_exchange, as_json, order, interval)\u001b[0m\n\u001b[0;32m    314\u001b[0m etfs \u001b[39m=\u001b[39m etfs[etfs[\u001b[39m\"\u001b[39m\u001b[39mcountry\u001b[39m\u001b[39m\"\u001b[39m]\u001b[39m.\u001b[39mstr\u001b[39m.\u001b[39mlower() \u001b[39m==\u001b[39m country]\n\u001b[0;32m    316\u001b[0m \u001b[39mif\u001b[39;00m etf \u001b[39mnot\u001b[39;00m \u001b[39min\u001b[39;00m \u001b[39mlist\u001b[39m(etfs[\u001b[39m\"\u001b[39m\u001b[39mname\u001b[39m\u001b[39m\"\u001b[39m]\u001b[39m.\u001b[39mapply(unidecode)\u001b[39m.\u001b[39mstr\u001b[39m.\u001b[39mlower()):\n\u001b[1;32m--> 317\u001b[0m     \u001b[39mraise\u001b[39;00m \u001b[39mRuntimeError\u001b[39;00m(\n\u001b[0;32m    318\u001b[0m         \u001b[39m\"\u001b[39m\u001b[39mERR#0019: etf \u001b[39m\u001b[39m\"\u001b[39m \u001b[39m+\u001b[39m etf \u001b[39m+\u001b[39m \u001b[39m\"\u001b[39m\u001b[39m not found, check if it is correct.\u001b[39m\u001b[39m\"\u001b[39m\n\u001b[0;32m    319\u001b[0m     )\n\u001b[0;32m    321\u001b[0m etfs \u001b[39m=\u001b[39m etfs[etfs[\u001b[39m\"\u001b[39m\u001b[39mname\u001b[39m\u001b[39m\"\u001b[39m]\u001b[39m.\u001b[39mapply(unidecode)\u001b[39m.\u001b[39mstr\u001b[39m.\u001b[39mlower() \u001b[39m==\u001b[39m etf]\n\u001b[0;32m    323\u001b[0m \u001b[39mif\u001b[39;00m def_exchange[\u001b[39m\"\u001b[39m\u001b[39mcountry\u001b[39m\u001b[39m\"\u001b[39m] \u001b[39m!=\u001b[39m country:\n",
      "\u001b[1;31mRuntimeError\u001b[0m: ERR#0019: etf qqq not found, check if it is correct."
     ]
    }
   ],
   "source": [
    "investpy.get_etf_recent_data('qqq', country='united states')"
   ]
  },
  {
   "cell_type": "code",
   "execution_count": null,
   "metadata": {},
   "outputs": [
    {
     "name": "stdout",
     "output_type": "stream",
     "text": [
      "19097419776\n",
      "None\n"
     ]
    }
   ],
   "source": [
    "from yahoofinancials import YahooFinancials\n",
    "qqq = YahooFinancials(\"tip\")\n",
    "print(qqq.get_market_cap())\n",
    "print(qqq.get_num_shares_outstanding())"
   ]
  },
  {
   "cell_type": "markdown",
   "metadata": {},
   "source": [
    "# Get ETF History\n",
    "- 모듈별 특징\n",
    "    - investpy\n",
    "        - 응답시간으로 유추해보면 일자에 일일이 요청을 날려 데이터를 받아오는 듯 함\n",
    "        - 1700년쯤으로 설정하면 너무 많이 시도해서 막힘\n",
    "        - 적당히 1970-1990년 정도로 하기\n",
    "    - pandas datareader - yahoo finance\n",
    "        - 단순 입력으로 얻을 수 있는 가장 과거날짜: https://github.com/ranaroussi/yfinance/issues/25\n",
    "        - 유닉스타임으로 날짜 바꾸기: https://m.blog.naver.com/PostView.naver?isHttpsRedirect=true&blogId=tamiel&logNo=221872429636 -> 잘안됨\n",
    "    - yfinance\n",
    "        - price, divdidend, split의 history를 한방에 획득 가능!!\n",
    "        - `period=\"max\"`와 같이 쉽게 히스토리 데이터 획득 가능\n",
    "        - `pip install yfinance`로 설치 시 S&P500 1950년부터 획득 가능\n",
    "        - `pip install yfinance==0.1.63`으로 설치 시 S&P500 1927년부터 획득 가능: https://github.com/ranaroussi/yfinance/issues/980\n",
    "- 저장 방식(2안으로 결정)\n",
    "    - 1안: 통째로 저장 -> 통째로 로드 -> 통째로 전처리\n",
    "    - 2안: 종목별 저장 -> 종목별 로드 -> 종목별 전처리 -> 하나로 합치기\n",
    "    - 3안: 종목별 전처리 후 저장 -> 하나로 합치기\n",
    "\n",
    "\n",
    "\n"
   ]
  },
  {
   "cell_type": "markdown",
   "metadata": {},
   "source": []
  },
  {
   "cell_type": "code",
   "execution_count": null,
   "metadata": {},
   "outputs": [
    {
     "data": {
      "text/plain": [
       "<AxesSubplot:xlabel='Date'>"
      ]
     },
     "execution_count": 325,
     "metadata": {},
     "output_type": "execute_result"
    },
    {
     "data": {
      "image/png": "[encoded data removed]",
      "text/plain": [
       "<Figure size 1440x432 with 1 Axes>"
      ]
     },
     "metadata": {
      "needs_background": "light"
     },
     "output_type": "display_data"
    }
   ],
   "source": [
    "df.set_index('Date')['Dividends'].plot(figsize=(20,6))\n",
    "df.set_index('Date')['Dividends'].rolling(window='365d').sum().plot()"
   ]
  },
  {
   "cell_type": "markdown",
   "metadata": {},
   "source": [
    "### Fred: 기준금리, 소비자물가, 인플레이션 등등\n",
    "- https://ecodemy.cafe24.com/fedrfund.html\n",
    "- https://seek-and-eat.tistory.com/88"
   ]
  },
  {
   "cell_type": "markdown",
   "metadata": {},
   "source": [
    "### 경제 위기\n",
    "- https://en.wikipedia.org/wiki/List_of_recessions_in_the_United_States\n",
    "- search the word 'recession': https://www.stlouisfed.org/education/-/media/project/frbstl/stlouisfed/education/lessons/pdf/fred-gdp-stacking.pdf\n",
    "- https://fredhelp.stlouisfed.org/fred/data/understanding-the-data/recession-bars/\n",
    "- https://blog.stata.com/2020/02/13/adding-recession-shading-to-time-series-graphs/\n",
    "- https://fredhelp.stlouisfed.org/fred/data/understanding-the-data/recession-bars/\n",
    "- https://seek-and-eat.tistory.com/88"
   ]
  },
  {
   "cell_type": "code",
   "execution_count": null,
   "metadata": {},
   "outputs": [
    {
     "data": {
      "text/html": [
       "<div>\n",
       "<style scoped>\n",
       "    .dataframe tbody tr th:only-of-type {\n",
       "        vertical-align: middle;\n",
       "    }\n",
       "\n",
       "    .dataframe tbody tr th {\n",
       "        vertical-align: top;\n",
       "    }\n",
       "\n",
       "    .dataframe thead th {\n",
       "        text-align: right;\n",
       "    }\n",
       "</style>\n",
       "<table border=\"1\" class=\"dataframe\">\n",
       "  <thead>\n",
       "    <tr style=\"text-align: right;\">\n",
       "      <th></th>\n",
       "      <th>DATE</th>\n",
       "      <th>USREC</th>\n",
       "      <th>yyyy-mm</th>\n",
       "    </tr>\n",
       "  </thead>\n",
       "  <tbody>\n",
       "    <tr>\n",
       "      <th>0</th>\n",
       "      <td>1854-12-01</td>\n",
       "      <td>1</td>\n",
       "      <td>1854-12</td>\n",
       "    </tr>\n",
       "    <tr>\n",
       "      <th>1</th>\n",
       "      <td>1855-01-01</td>\n",
       "      <td>0</td>\n",
       "      <td>1855-01</td>\n",
       "    </tr>\n",
       "    <tr>\n",
       "      <th>2</th>\n",
       "      <td>1855-02-01</td>\n",
       "      <td>0</td>\n",
       "      <td>1855-02</td>\n",
       "    </tr>\n",
       "    <tr>\n",
       "      <th>3</th>\n",
       "      <td>1855-03-01</td>\n",
       "      <td>0</td>\n",
       "      <td>1855-03</td>\n",
       "    </tr>\n",
       "    <tr>\n",
       "      <th>4</th>\n",
       "      <td>1855-04-01</td>\n",
       "      <td>0</td>\n",
       "      <td>1855-04</td>\n",
       "    </tr>\n",
       "    <tr>\n",
       "      <th>...</th>\n",
       "      <td>...</td>\n",
       "      <td>...</td>\n",
       "      <td>...</td>\n",
       "    </tr>\n",
       "    <tr>\n",
       "      <th>2004</th>\n",
       "      <td>2021-12-01</td>\n",
       "      <td>0</td>\n",
       "      <td>2021-12</td>\n",
       "    </tr>\n",
       "    <tr>\n",
       "      <th>2005</th>\n",
       "      <td>2022-01-01</td>\n",
       "      <td>0</td>\n",
       "      <td>2022-01</td>\n",
       "    </tr>\n",
       "    <tr>\n",
       "      <th>2006</th>\n",
       "      <td>2022-02-01</td>\n",
       "      <td>0</td>\n",
       "      <td>2022-02</td>\n",
       "    </tr>\n",
       "    <tr>\n",
       "      <th>2007</th>\n",
       "      <td>2022-03-01</td>\n",
       "      <td>0</td>\n",
       "      <td>2022-03</td>\n",
       "    </tr>\n",
       "    <tr>\n",
       "      <th>2008</th>\n",
       "      <td>2022-04-01</td>\n",
       "      <td>0</td>\n",
       "      <td>2022-04</td>\n",
       "    </tr>\n",
       "  </tbody>\n",
       "</table>\n",
       "<p>2009 rows × 3 columns</p>\n",
       "</div>"
      ],
      "text/plain": [
       "           DATE  USREC  yyyy-mm\n",
       "0    1854-12-01      1  1854-12\n",
       "1    1855-01-01      0  1855-01\n",
       "2    1855-02-01      0  1855-02\n",
       "3    1855-03-01      0  1855-03\n",
       "4    1855-04-01      0  1855-04\n",
       "...         ...    ...      ...\n",
       "2004 2021-12-01      0  2021-12\n",
       "2005 2022-01-01      0  2022-01\n",
       "2006 2022-02-01      0  2022-02\n",
       "2007 2022-03-01      0  2022-03\n",
       "2008 2022-04-01      0  2022-04\n",
       "\n",
       "[2009 rows x 3 columns]"
      ]
     },
     "execution_count": 10,
     "metadata": {},
     "output_type": "execute_result"
    }
   ],
   "source": [
    "start, end = (dt.datetime(1800, 1, 1), dt.datetime.today())\n",
    "recession = web.DataReader('USREC', 'fred', start, end)\n",
    "recession = recession.reset_index(drop=False)\n",
    "recession['yyyy-mm'] = recession['DATE'].dt.to_period('M').astype('str')\n",
    "recession"
   ]
  },
  {
   "cell_type": "markdown",
   "metadata": {},
   "source": [
    "- master\n",
    "- hisotry\n",
    "- summary\n",
    "    - 끌어올 수 있는 거\n",
    "    - 직접 구해야 하는거\n",
    "        - 배당률 -> T12M, T6M\n",
    "        - 최근 1년 배당 횟수 -> 반기, 분기, 연\n",
    "\n",
    "- market cap\n",
    "    - 시총\n",
    "- shares outstanding(https://www.mk.co.kr/dic/m/view.php?idx=6091)\n",
    "    - 발행주식수\n",
    "    - 기업이 발행하여 일반 투자자가 소유하고 있는 주식수\n",
    "- AUM(assets under management) = Net Assets = Market Cap\n",
    "    - The AUM of an ETF is calculated by multiplying shares outstanding by the market price per share\n",
    "    - shares outstanding * 주당 가격\n",
    "- total asset(https://m.blog.naver.com/kyangsy0322/222243563773):\n",
    "    - 순자산 + 부채를 의미하는 듯"
   ]
  },
  {
   "cell_type": "markdown",
   "metadata": {},
   "source": []
  }
 ],
 "metadata": {
  "kernelspec": {
   "display_name": "Python 3",
   "language": "python",
   "name": "python3"
  },
  "language_info": {
   "codemirror_mode": {
    "name": "ipython",
    "version": 3
   },
   "file_extension": ".py",
   "mimetype": "text/x-python",
   "name": "python",
   "nbconvert_exporter": "python",
   "pygments_lexer": "ipython3",
   "version": "3.9.6"
  },
  "orig_nbformat": 4,
  "vscode": {
   "interpreter": {
    "hash": "31f2aee4e71d21fbe5cf8b01ff0e069b9275f58929596ceb00d14d90e3e16cd6"
   }
  }
 },
 "nbformat": 4,
 "nbformat_minor": 2
}
